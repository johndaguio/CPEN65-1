{
  "nbformat": 4,
  "nbformat_minor": 0,
  "metadata": {
    "colab": {
      "provenance": [],
      "authorship_tag": "ABX9TyOmMP6NG43GXf41C9ZWPXp+",
      "include_colab_link": true
    },
    "kernelspec": {
      "name": "python3",
      "display_name": "Python 3"
    },
    "language_info": {
      "name": "python"
    }
  },
  "cells": [
    {
      "cell_type": "markdown",
      "metadata": {
        "id": "view-in-github",
        "colab_type": "text"
      },
      "source": [
        "<a href=\"https://colab.research.google.com/github/johndaguio/CPEN65-1/blob/main/Daguio%2C_John_Hendrick_Midterm_Exam.ipynb\" target=\"_parent\"><img src=\"https://colab.research.google.com/assets/colab-badge.svg\" alt=\"Open In Colab\"/></a>"
      ]
    },
    {
      "cell_type": "markdown",
      "source": [
        "1.\tWrite a Python program to create an array of 10 integers and display the array items. Access individual elements through indexes and compute for the sum."
      ],
      "metadata": {
        "id": "GlYtN2jOHCpT"
      }
    },
    {
      "cell_type": "code",
      "source": [
        "numbers = [1,2,3,4,5,6,7,8,9,10]\n",
        "for index, val in enumerate(numbers):\n",
        "  print(index,val)\n",
        "print(\"the sum of the 10 integers is \", sum(numbers)) "
      ],
      "metadata": {
        "colab": {
          "base_uri": "https://localhost:8080/"
        },
        "id": "G6-l6jmiNMdb",
        "outputId": "8db7b965-e699-421a-a5d2-9c67691b53d4"
      },
      "execution_count": 28,
      "outputs": [
        {
          "output_type": "stream",
          "name": "stdout",
          "text": [
            "0 1\n",
            "1 2\n",
            "2 3\n",
            "3 4\n",
            "4 5\n",
            "5 6\n",
            "6 7\n",
            "7 8\n",
            "8 9\n",
            "9 10\n",
            "the sum of the 10 integers is 55\n"
          ]
        }
      ]
    },
    {
      "cell_type": "markdown",
      "source": [
        "2.\tWrite a Python program to append a new item to the end of the array. Original array: numbers = [1, 2, 3, 4, 5, 6, 7, 8, 9, 10]"
      ],
      "metadata": {
        "id": "EWhr-bthHJET"
      }
    },
    {
      "cell_type": "code",
      "source": [
        "numbers = [1, 2, 3, 4, 5, 6, 7, 8, 9, 10]\n",
        "numbers.append(11)\n",
        "print(numbers)"
      ],
      "metadata": {
        "colab": {
          "base_uri": "https://localhost:8080/"
        },
        "id": "jT1j9MtCHM2a",
        "outputId": "00f1ba31-c911-4746-fbd8-9734b6cb65a2"
      },
      "execution_count": 2,
      "outputs": [
        {
          "output_type": "stream",
          "name": "stdout",
          "text": [
            "[1, 2, 3, 4, 5, 6, 7, 8, 9, 10, 11]\n"
          ]
        }
      ]
    },
    {
      "cell_type": "markdown",
      "source": [
        "3.\tWrite a Python program to insert a new item before the last element in an existing array. Original array: numbers = [1, 2, 3, 4, 5, 6, 7, 8, 9, 10]"
      ],
      "metadata": {
        "id": "xG0GcBY2HNYj"
      }
    },
    {
      "cell_type": "code",
      "source": [
        "numbers = [1, 2, 3, 4, 5, 6, 7, 8, 9, 10]\n",
        "numbers.insert(9,9.5)\n",
        "print(numbers)"
      ],
      "metadata": {
        "colab": {
          "base_uri": "https://localhost:8080/"
        },
        "id": "GmoYuvVCHRHD",
        "outputId": "76de45c9-acc0-4f76-e4e9-586c9faf0d00"
      },
      "execution_count": 4,
      "outputs": [
        {
          "output_type": "stream",
          "name": "stdout",
          "text": [
            "[1, 2, 3, 4, 5, 6, 7, 8, 9, 9.5, 10]\n"
          ]
        }
      ]
    },
    {
      "cell_type": "markdown",
      "source": [
        "4.\tWrite a Python program to reverse the order of the items in the array. Original array: numbers = [1, 2, 3, 4, 5]"
      ],
      "metadata": {
        "id": "sMDcxJNWHSHK"
      }
    },
    {
      "cell_type": "code",
      "source": [
        "numbers = [1, 2, 3, 4, 5]\n",
        "numbers.reverse()\n",
        "print(numbers)"
      ],
      "metadata": {
        "colab": {
          "base_uri": "https://localhost:8080/"
        },
        "id": "W4eIFjKoHVNR",
        "outputId": "6c7602d6-8d41-4c99-c563-1f32a71e65c2"
      },
      "execution_count": 5,
      "outputs": [
        {
          "output_type": "stream",
          "name": "stdout",
          "text": [
            "[5, 4, 3, 2, 1]\n"
          ]
        }
      ]
    },
    {
      "cell_type": "markdown",
      "source": [
        "5.\tLet A be an array of size n ≥ 2 containing integers from 1 to n−1, inclusive, with exactly one repeated. Create an algorithm for finding the integer in A that is repeated."
      ],
      "metadata": {
        "id": "IgUb31JJHV8q"
      }
    },
    {
      "cell_type": "code",
      "source": [
        "A = [1,2,3,3,4,5,6,7,8,9,10]\n",
        "i = len(A)\n",
        "\n",
        "#algorithm for finding the integer in A that is repeated.\n",
        "def RepeatedInt(A,i):\n",
        "  for x in range (i):\n",
        "    for y in range(x+1, i):\n",
        "      if(A[x] == A[y]):\n",
        "        return A[x]\n",
        "print(RepeatedInt(A,i))"
      ],
      "metadata": {
        "colab": {
          "base_uri": "https://localhost:8080/"
        },
        "id": "qO7xKs75HY9q",
        "outputId": "32acaee0-2ad2-41c1-ef2a-838e9a3f8587"
      },
      "execution_count": 29,
      "outputs": [
        {
          "output_type": "stream",
          "name": "stdout",
          "text": [
            "3\n"
          ]
        }
      ]
    }
  ]
}