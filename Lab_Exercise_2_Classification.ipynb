{
  "nbformat": 4,
  "nbformat_minor": 0,
  "metadata": {
    "colab": {
      "provenance": [],
      "authorship_tag": "ABX9TyMddwEmBPTg+X6desqf+CZ3",
      "include_colab_link": true
    },
    "kernelspec": {
      "name": "python3",
      "display_name": "Python 3"
    },
    "language_info": {
      "name": "python"
    }
  },
  "cells": [
    {
      "cell_type": "markdown",
      "metadata": {
        "id": "view-in-github",
        "colab_type": "text"
      },
      "source": [
        "<a href=\"https://colab.research.google.com/github/johndaguio/CPEN65-1/blob/main/Lab_Exercise_2_Classification.ipynb\" target=\"_parent\"><img src=\"https://colab.research.google.com/assets/colab-badge.svg\" alt=\"Open In Colab\"/></a>"
      ]
    },
    {
      "cell_type": "code",
      "execution_count": 24,
      "metadata": {
        "id": "Bn-iKtUMUB6N"
      },
      "outputs": [],
      "source": [
        "from scipy.ndimage import shift\n",
        "\n",
        "def shift_image(image, dx, dy):\n",
        "    image = image.reshape((28, 28))\n",
        "    shifted_image = shift (image, [dy, dx], cval=0, mode=\"constant\")\n",
        "    return shifted_image.reshape([-1])\n",
        "\n",
        "    image = X_train[1000]\n",
        "    shifted_image_down = shift_image(image, 0, 5)\n",
        "    shifted_image_left = shift_image(image, -5, 0)\n",
        "    \n",
        "    plt.figure(figsize=(12,3))\n",
        "    plt.subplot(131)\n",
        "    plt.title(\"Original\", fontsize=14)\n",
        "    plt.imshow(image.reshape(28, 28), interpolation=\"nearest\", cmap=\"Greys\")\n",
        "    plt.subplot(132)\n",
        "    plt.title(\"Shifted down\", fontsize=14)\n",
        "    plt.imshow(shifted_image_down.reshape(28, 28), interpolation=\"nearest\", cmap=\"Greys\")\n",
        "    plt.subplot(133)\n",
        "    plt.title(\"Shifted left\", fontsize=14)\n",
        "    plt.imshow(shifted_image_left.reshape(28, 28), interpolation=\"nearest\", cmap=\"Greys\")\n",
        "    plt.show()\n",
        "\n",
        "    X_train_augmented = [image for image in X_train]\n",
        "    y_train_augmented = [label for label in y_train]\n",
        "\n",
        "    for dx, dy in ((1, 0), (-1, 0), (0, 1), (0, -1)):\n",
        "        for image, label in zip(X_train, y_train):\n",
        "            X_train_augmented.append(shift_image(image, dx, dy))\n",
        "            y_train_augmented.append(label)\n",
        "\n",
        "    X_train_augmented = np.array(X_train_augmented)\n",
        "    y_train_augmented = np.array(y_train_augmented)\n",
        "\n",
        "    shuffle_idx = np.random.permutation(len(X_train_augmented))\n",
        "    X_train_augmented = X_train_augmented[shuffle_idx]\n",
        "    y_train_augmented = y_train_augmented[shuffle_idx]\n",
        "\n",
        "    knn_clf = KNeighborsClassifier(**grid_search.best_params_)\n",
        "\n",
        "    knn_clf.fit(X_train_augmented, y_train_augmented)\n",
        "\n",
        "    y_pred = knn_clf.predict(X_test)\n",
        "    accuracy_score(y_test, y_pred)\n",
        "\n",
        "\n",
        "\n"
      ]
    }
  ]
}