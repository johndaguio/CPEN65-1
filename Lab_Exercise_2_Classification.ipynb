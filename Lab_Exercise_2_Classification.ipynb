{
  "nbformat": 4,
  "nbformat_minor": 0,
  "metadata": {
    "colab": {
      "provenance": [],
      "authorship_tag": "ABX9TyO8qwzoJqU9db2H7qZ9e4c1",
      "include_colab_link": true
    },
    "kernelspec": {
      "name": "python3",
      "display_name": "Python 3"
    },
    "language_info": {
      "name": "python"
    }
  },
  "cells": [
    {
      "cell_type": "markdown",
      "metadata": {
        "id": "view-in-github",
        "colab_type": "text"
      },
      "source": [
        "<a href=\"https://colab.research.google.com/github/johndaguio/CPEN65-1/blob/main/Lab_Exercise_2_Classification.ipynb\" target=\"_parent\"><img src=\"https://colab.research.google.com/assets/colab-badge.svg\" alt=\"Open In Colab\"/></a>"
      ]
    },
    {
      "cell_type": "code",
      "source": [
        "from sklearn.model_selection import GridSearchCV\n",
        "\n",
        "param_grid = [{'weights': [\"uniform\", \"distance\"], 'n_neighbors': [3, 4, 5]}]\n",
        "\n",
        "knn_clf = KNeighborsClassifier()\n",
        "grid_search = GridSearchCV(knn_clf, param_grid, cv=5, verbose=3)\n",
        "grid_search.fit(X_train, y_train)\n",
        "\n",
        "GridSearchCV(cv=5, estimator=KNeighborsClassifier(), param_grid=[{'n_neighbors': [3, 4, 5],'weights': ['uniform', 'distance']}],verbose=3)\n",
        "grid_search.best_params_\n",
        "grid_search.best_score_\n",
        "from sklearn.metrics import accuracy_score\n",
        "\n",
        "y_pred = grid_search.predict(X_test)\n",
        "accuracy_score(y_test, y_pred)"
      ],
      "metadata": {
        "colab": {
          "base_uri": "https://localhost:8080/",
          "height": 235
        },
        "id": "gV37NOVVXyuR",
        "outputId": "3f8391db-0123-4505-e624-89d17583ac05"
      },
      "execution_count": 53,
      "outputs": [
        {
          "output_type": "error",
          "ename": "NameError",
          "evalue": "ignored",
          "traceback": [
            "\u001b[0;31m---------------------------------------------------------------------------\u001b[0m",
            "\u001b[0;31mNameError\u001b[0m                                 Traceback (most recent call last)",
            "\u001b[0;32m<ipython-input-53-49e873010825>\u001b[0m in \u001b[0;36m<cell line: 7>\u001b[0;34m()\u001b[0m\n\u001b[1;32m      5\u001b[0m \u001b[0mknn_clf\u001b[0m \u001b[0;34m=\u001b[0m \u001b[0mKNeighborsClassifier\u001b[0m\u001b[0;34m(\u001b[0m\u001b[0;34m)\u001b[0m\u001b[0;34m\u001b[0m\u001b[0;34m\u001b[0m\u001b[0m\n\u001b[1;32m      6\u001b[0m \u001b[0mgrid_search\u001b[0m \u001b[0;34m=\u001b[0m \u001b[0mGridSearchCV\u001b[0m\u001b[0;34m(\u001b[0m\u001b[0mknn_clf\u001b[0m\u001b[0;34m,\u001b[0m \u001b[0mparam_grid\u001b[0m\u001b[0;34m,\u001b[0m \u001b[0mcv\u001b[0m\u001b[0;34m=\u001b[0m\u001b[0;36m5\u001b[0m\u001b[0;34m,\u001b[0m \u001b[0mverbose\u001b[0m\u001b[0;34m=\u001b[0m\u001b[0;36m3\u001b[0m\u001b[0;34m)\u001b[0m\u001b[0;34m\u001b[0m\u001b[0;34m\u001b[0m\u001b[0m\n\u001b[0;32m----> 7\u001b[0;31m \u001b[0mgrid_search\u001b[0m\u001b[0;34m.\u001b[0m\u001b[0mfit\u001b[0m\u001b[0;34m(\u001b[0m\u001b[0mX_train\u001b[0m\u001b[0;34m,\u001b[0m \u001b[0my_train\u001b[0m\u001b[0;34m)\u001b[0m\u001b[0;34m\u001b[0m\u001b[0;34m\u001b[0m\u001b[0m\n\u001b[0m\u001b[1;32m      8\u001b[0m \u001b[0;34m\u001b[0m\u001b[0m\n\u001b[1;32m      9\u001b[0m \u001b[0mGridSearchCV\u001b[0m\u001b[0;34m(\u001b[0m\u001b[0mcv\u001b[0m\u001b[0;34m=\u001b[0m\u001b[0;36m5\u001b[0m\u001b[0;34m,\u001b[0m \u001b[0mestimator\u001b[0m\u001b[0;34m=\u001b[0m\u001b[0mKNeighborsClassifier\u001b[0m\u001b[0;34m(\u001b[0m\u001b[0;34m)\u001b[0m\u001b[0;34m,\u001b[0m \u001b[0mparam_grid\u001b[0m\u001b[0;34m=\u001b[0m\u001b[0;34m[\u001b[0m\u001b[0;34m{\u001b[0m\u001b[0;34m'n_neighbors'\u001b[0m\u001b[0;34m:\u001b[0m \u001b[0;34m[\u001b[0m\u001b[0;36m3\u001b[0m\u001b[0;34m,\u001b[0m \u001b[0;36m4\u001b[0m\u001b[0;34m,\u001b[0m \u001b[0;36m5\u001b[0m\u001b[0;34m]\u001b[0m\u001b[0;34m,\u001b[0m\u001b[0;34m'weights'\u001b[0m\u001b[0;34m:\u001b[0m \u001b[0;34m[\u001b[0m\u001b[0;34m'uniform'\u001b[0m\u001b[0;34m,\u001b[0m \u001b[0;34m'distance'\u001b[0m\u001b[0;34m]\u001b[0m\u001b[0;34m}\u001b[0m\u001b[0;34m]\u001b[0m\u001b[0;34m,\u001b[0m\u001b[0mverbose\u001b[0m\u001b[0;34m=\u001b[0m\u001b[0;36m3\u001b[0m\u001b[0;34m)\u001b[0m\u001b[0;34m\u001b[0m\u001b[0;34m\u001b[0m\u001b[0m\n",
            "\u001b[0;31mNameError\u001b[0m: name 'X_train' is not defined"
          ]
        }
      ]
    },
    {
      "cell_type": "markdown",
      "source": [],
      "metadata": {
        "id": "oOUzYR89Q0fn"
      }
    },
    {
      "cell_type": "code",
      "source": [
        "from scipy.ndimage import shift\n",
        "def shift_image(image, dx, dy):\n",
        "    image = image.reshape((28, 28))\n",
        "    shifted_image = shift(image, [dy, dx], cval=0, mode=\"constant\")\n",
        "    return shifted_image.reshape([-1])\n",
        "    image = X_train[1000]\n",
        "    shifted_image_down = shift_image(image, 0, 5)\n",
        "    shifted_image_left = shift_image(image, -5, 0)\n",
        "\n",
        "    plt.figure(figsize=(12,3))\n",
        "    plt.subplot(131)\n",
        "    plt.title(\"Original\", fontsize=14)\n",
        "    plt.imshow(image.reshape(28, 28), interpolation=\"nearest\", cmap=\"Greys\")\n",
        "    plt.subplot(132)\n",
        "    plt.title(\"Shifted down\", fontsize=14)\n",
        "    plt.imshow(shifted_image_down.reshape(28, 28), interpolation=\"nearest\", cmap=\"Greys\")\n",
        "    plt.subplot(133)\n",
        "    plt.title(\"Shifted left\", fontsize=14)\n",
        "    plt.imshow(shifted_image_left.reshape(28, 28), interpolation=\"nearest\", cmap=\"Greys\")\n",
        "    plt.show()"
      ],
      "metadata": {
        "id": "epGRFU_QlHl6"
      },
      "execution_count": 52,
      "outputs": []
    },
    {
      "cell_type": "code",
      "source": [
        "import os\n",
        "import urllib.request\n",
        "\n",
        "TITANIC_PATH = os.path.join(\"datasets\", \"titanic\")\n",
        "DOWNLOAD_URL = \"https://raw.githubusercontent.com/ageron/handson-ml2/master/datasets/titanic/\"\n",
        "\n",
        "def fetch_titanic_data(url=DOWNLOAD_URL, path=TITANIC_PATH):\n",
        "    if not os.path.isdir(path):\n",
        "        os.makedirs(path)\n",
        "    for filename in (\"train.csv\", \"test.csv\"):\n",
        "        filepath = os.path.join(path, filename)\n",
        "        if not os.path.isfile(filepath):\n",
        "            print(\"Downloading\", filename)\n",
        "            urllib.request.urlretrieve(url + filename, filepath)\n",
        "\n",
        "fetch_titanic_data()    \n",
        "\n",
        "import pandas as pd\n",
        "\n",
        "def load_titanic_data(filename, titanic_path=TITANIC_PATH):\n",
        "    csv_path = os.path.join(titanic_path, filename)\n",
        "    return pd.read_csv(csv_path)\n",
        "\n",
        "    train_data = load_titanic_data(\"train.csv\")\n",
        "    test_data = load_titanic_data(\"test.csv\")\n",
        "    train_data.head()\n",
        "    train_data = train_data.set_index(\"PassengerId\")\n",
        "    test_data = test_data.set_index(\"PassengerId\")\n",
        "    train_data.info()\n",
        "    train_data[train_data[\"Sex\"]==\"female\"][\"Age\"].median()\n",
        "    train_data.describe()\n",
        "    train_data[\"Survived\"].value_counts()\n",
        "    train_data[\"Pclass\"].value_counts()\n",
        "    train_data[\"Sex\"].value_counts()\n",
        "    train_data[\"Embarked\"].value_counts()\n",
        "    from sklearn.pipeline import Pipeline\n",
        "    from sklearn.impute import SimpleImputer\n",
        "    from sklearn.preprocessing import StandardScaler\n",
        "\n",
        "    num_pipeline = Pipeline([\n",
        "        (\"imputer\", SimpleImputer(strategy=\"median\")),\n",
        "        (\"scaler\", StandardScaler())])\n",
        "    from sklearn.preprocessing import OneHotEncoder\n",
        "    from sklearn.compose import ColumnTransformer\n",
        "\n",
        "    num_attribs = [\"Age\", \"SibSp\", \"Parch\", \"Fare\"]\n",
        "    cat_attribs = [\"Pclass\", \"Sex\", \"Embarked\"]\n",
        "\n",
        "    preprocess_pipeline = ColumnTransformer([(\"num\", num_pipeline, num_attribs),(\"cat\", cat_pipeline, cat_attribs),])\n",
        "    X_train = preprocess_pipeline.fit_transform(train_data[num_attribs + cat_attribs])\n",
        "    y_train = train_data[\"Survived\"]\n",
        "    from sklearn.ensemble import RandomForestClassifier\n",
        "\n",
        "    forest_clf = RandomForestClassifier(n_estimators=100, random_state=42)\n",
        "    forest_clf.fit(X_train, y_train)\n",
        "\n",
        "    X_test = preprocess_pipeline.transform(test_data[num_attribs + cat_attribs])\n",
        "    y_pred = forest_clf.predict(X_test)\n",
        "\n",
        "    from sklearn.model_selection import cross_val_score\n",
        "\n",
        "    forest_scores = cross_val_score(forest_clf, X_train, y_train, cv=10)\n",
        "    forest_scores.mean()\n",
        "\n",
        "    from sklearn.svm import SVC\n",
        "\n",
        "    svm_clf = SVC(gamma=\"auto\")\n",
        "    svm_scores = cross_val_score(svm_clf, X_train, y_train, cv=10)\n",
        "    svm_scores.mean()\n",
        "\n",
        "    import matplotlib.pyplot as plt\n",
        "\n",
        "    plt.figure(figsize=(8, 4))\n",
        "    plt.plot([1]*10, svm_scores, \".\")\n",
        "    plt.plot([2]*10, forest_scores, \".\")\n",
        "    plt.boxplot([svm_scores, forest_scores], labels=(\"SVM\",\"Random Forest\"))\n",
        "    plt.ylabel(\"Accuracy\", fontsize=14)\n",
        "    plt.show()\n",
        "\n",
        "    train_data[\"AgeBucket\"] = train_data[\"Age\"] // 15 * 15\n",
        "    train_data[[\"AgeBucket\", \"Survived\"]].groupby(['AgeBucket']).mean()\n",
        "\n",
        "    train_data[\"RelativesOnboard\"] = train_data[\"SibSp\"] + train_data[\"Parch\"]\n",
        "    train_data[[\"RelativesOnboard\", \"Survived\"]].groupby(['RelativesOnboard']).mean()\n",
        "\n",
        "\n"
      ],
      "metadata": {
        "colab": {
          "base_uri": "https://localhost:8080/"
        },
        "id": "S_ErpwbWQ3Ic",
        "outputId": "7298a21b-a2c2-493d-992b-2a938da9b57b"
      },
      "execution_count": 55,
      "outputs": [
        {
          "output_type": "stream",
          "name": "stdout",
          "text": [
            "Downloading train.csv\n",
            "Downloading test.csv\n"
          ]
        }
      ]
    },
    {
      "cell_type": "markdown",
      "source": [],
      "metadata": {
        "id": "2swhEu6vQ5Br"
      }
    },
    {
      "cell_type": "code",
      "source": [],
      "metadata": {
        "id": "NABqcV5KQ5rS"
      },
      "execution_count": null,
      "outputs": []
    }
  ]
}