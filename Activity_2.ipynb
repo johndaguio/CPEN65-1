{
  "nbformat": 4,
  "nbformat_minor": 0,
  "metadata": {
    "colab": {
      "provenance": [],
      "authorship_tag": "ABX9TyPMYhB5qiLJ0Q/rQYohV7QO",
      "include_colab_link": true
    },
    "kernelspec": {
      "name": "python3",
      "display_name": "Python 3"
    },
    "language_info": {
      "name": "python"
    }
  },
  "cells": [
    {
      "cell_type": "markdown",
      "metadata": {
        "id": "view-in-github",
        "colab_type": "text"
      },
      "source": [
        "<a href=\"https://colab.research.google.com/github/johndaguio/CPEN65-1/blob/main/Activity_2.ipynb\" target=\"_parent\"><img src=\"https://colab.research.google.com/assets/colab-badge.svg\" alt=\"Open In Colab\"/></a>"
      ]
    },
    {
      "cell_type": "code",
      "execution_count": null,
      "metadata": {
        "colab": {
          "base_uri": "https://localhost:8080/"
        },
        "id": "_yBB7DPRjcbZ",
        "outputId": "4b829330-206a-43b4-8d06-23873939f3bb"
      },
      "outputs": [
        {
          "output_type": "stream",
          "name": "stdout",
          "text": [
            "['o', 'i', 'u', 'g', 'a', 'D', 'S.', 'k', 'c', 'i', 'r', 'd', 'n', 'e', 'H', 'n', 'h', 'o', 'J']\n"
          ]
        }
      ],
      "source": [
        "name=[\"J\",\"o\",\"h\",\"n\",\"H\",\"e\",\"n\",\"d\",\"r\",\"i\",\"c\",\"k\",\"S.\",\"D\",\"a\",\"g\",\"u\",\"i\",\"o\"]\n",
        "name.reverse()\n",
        "print(name)"
      ]
    }
  ]
}