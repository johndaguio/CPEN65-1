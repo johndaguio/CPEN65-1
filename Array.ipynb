{
  "nbformat": 4,
  "nbformat_minor": 0,
  "metadata": {
    "colab": {
      "provenance": [],
      "authorship_tag": "ABX9TyMnqMRCrkqhZxXNqGnVrm9v",
      "include_colab_link": true
    },
    "kernelspec": {
      "name": "python3",
      "display_name": "Python 3"
    },
    "language_info": {
      "name": "python"
    }
  },
  "cells": [
    {
      "cell_type": "markdown",
      "metadata": {
        "id": "view-in-github",
        "colab_type": "text"
      },
      "source": [
        "<a href=\"https://colab.research.google.com/github/johndaguio/CPEN65-1/blob/main/Array.ipynb\" target=\"_parent\"><img src=\"https://colab.research.google.com/assets/colab-badge.svg\" alt=\"Open In Colab\"/></a>"
      ]
    },
    {
      "cell_type": "code",
      "source": [
        "#Accessing the elements in an Array\n",
        "animals = [\"cat\",\"dog\", \"fish\"]\n",
        "x = animals[0]\n",
        "y = animals[1]\n",
        "z = animals[2]\n",
        "print(\"Array[0]=\", x)\n",
        "print(\"Array[1]=\", y)\n",
        "print(\"Array[2]=\", z)"
      ],
      "metadata": {
        "colab": {
          "base_uri": "https://localhost:8080/"
        },
        "id": "03jqEu8m7Tdr",
        "outputId": "831e61f2-b132-4177-9619-9d50bbe90a62"
      },
      "execution_count": null,
      "outputs": [
        {
          "output_type": "stream",
          "name": "stdout",
          "text": [
            "Array[0]= cat\n",
            "Array[1]= dog\n",
            "Array[2]= fish\n"
          ]
        }
      ]
    },
    {
      "cell_type": "code",
      "source": [
        "#Modifying the elements/s in an Array\n",
        "animals = [\"cat\",\"dog\",\"fish\"]\n",
        "animals[0] = \"monkey\"\n",
        "x = animals[0]\n",
        "print(\"Array[0]=\",x)\n",
        "print(animals)"
      ],
      "metadata": {
        "colab": {
          "base_uri": "https://localhost:8080/"
        },
        "id": "WkxH5awWCKQu",
        "outputId": "dbd84f06-83f1-43de-8bab-81e2e389a706"
      },
      "execution_count": null,
      "outputs": [
        {
          "output_type": "stream",
          "name": "stdout",
          "text": [
            "Array[0]= monkey\n",
            "['monkey', 'dog', 'fish']\n"
          ]
        }
      ]
    },
    {
      "cell_type": "code",
      "source": [
        "#Length of the Array (counting the elements in an array)\n",
        "animals = [\"monkey\",\"dog\",\"fish\",\"cat\",\"birds\"]\n",
        "v = len(animals)\n",
        "print(v)"
      ],
      "metadata": {
        "colab": {
          "base_uri": "https://localhost:8080/"
        },
        "id": "l66iJJXkC0I4",
        "outputId": "715d4df2-459f-4d62-f318-696ca3125e9e"
      },
      "execution_count": null,
      "outputs": [
        {
          "output_type": "stream",
          "name": "stdout",
          "text": [
            "5\n"
          ]
        }
      ]
    },
    {
      "cell_type": "code",
      "source": [
        "#Looping Array Elements \n",
        "animals=[\"monkey\",\"dog\",\"fish\",\"cat\",\"birds\"]\n",
        "for x in animals:\n",
        "  print(x)"
      ],
      "metadata": {
        "colab": {
          "base_uri": "https://localhost:8080/"
        },
        "id": "jUrbLwu9zSsD",
        "outputId": "81c56e03-7005-4d01-f50b-5dfbec2b7e9a"
      },
      "execution_count": 8,
      "outputs": [
        {
          "output_type": "stream",
          "name": "stdout",
          "text": [
            "monkey\n",
            "dog\n",
            "fish\n",
            "cat\n",
            "birds\n"
          ]
        }
      ]
    },
    {
      "cell_type": "code",
      "source": [
        "#Looping Array Elements 2\n",
        "animals=[\"monkey\",\"dog\",\"fish\",\"cat\",\"birds\"]\n",
        "for index, val in enumerate(animals):\n",
        "  print(index,val)"
      ],
      "metadata": {
        "colab": {
          "base_uri": "https://localhost:8080/"
        },
        "id": "8ZGCuqdyk66I",
        "outputId": "6247c35c-d65f-4a6e-aab3-e4f252cf55c4"
      },
      "execution_count": null,
      "outputs": [
        {
          "output_type": "stream",
          "name": "stdout",
          "text": [
            "0 monkey\n",
            "1 dog\n",
            "2 fish\n",
            "3 cat\n",
            "4 birds\n"
          ]
        }
      ]
    },
    {
      "cell_type": "code",
      "source": [
        "#Adding Elements in the Array\n",
        "animals=[\"monkey\",\"dog\",\"fish\",\"cat\",\"birds\"]\n",
        "animals.append(\"lion\")\n",
        "print(animals)"
      ],
      "metadata": {
        "colab": {
          "base_uri": "https://localhost:8080/"
        },
        "id": "lKioa2eBy7fj",
        "outputId": "82c09830-671e-4b88-bb11-79148f0828ba"
      },
      "execution_count": 7,
      "outputs": [
        {
          "output_type": "stream",
          "name": "stdout",
          "text": [
            "['monkey', 'dog', 'fish', 'cat', 'birds', 'lion']\n"
          ]
        }
      ]
    },
    {
      "cell_type": "code",
      "source": [
        "#inserting an element in an array\n",
        "numbers = [1,2,3,4,5,6,7,8,9,10]\n",
        "\n",
        "print(numbers)\n",
        "numbers.pop(1)\n",
        "print(numbers)"
      ],
      "metadata": {
        "colab": {
          "base_uri": "https://localhost:8080/"
        },
        "id": "sXh48qkSyWo_",
        "outputId": "5cd6f609-357b-4170-bd59-241c809dfda3"
      },
      "execution_count": 6,
      "outputs": [
        {
          "output_type": "stream",
          "name": "stdout",
          "text": [
            "[1, 2, 3, 4, 5, 6, 7, 8, 9, 10]\n",
            "[1, 3, 4, 5, 6, 7, 8, 9, 10]\n"
          ]
        }
      ]
    },
    {
      "cell_type": "code",
      "source": [
        "#Removing an Element in the Array\n",
        "numbers=[1,11,2,3,4,5,6,7,8,9,10]\n",
        "numbers.pop(1)\n",
        "print(numbers)"
      ],
      "metadata": {
        "colab": {
          "base_uri": "https://localhost:8080/"
        },
        "id": "3cP2CH5imA8B",
        "outputId": "ba805930-c775-4cad-db8c-16caa61fc782"
      },
      "execution_count": null,
      "outputs": [
        {
          "output_type": "stream",
          "name": "stdout",
          "text": [
            "[1, 2, 3, 4, 5, 6, 7, 8, 9, 10]\n"
          ]
        }
      ]
    },
    {
      "cell_type": "code",
      "source": [
        "animals=[\"monkey\",\"dog\",\"fish\",\"cat\",\"birds\"]\n",
        "animals.reverse()\n",
        "print(animals)"
      ],
      "metadata": {
        "colab": {
          "base_uri": "https://localhost:8080/"
        },
        "id": "rZC0ERg1zk1t",
        "outputId": "b89da00b-a7cf-4238-96de-98146a52d620"
      },
      "execution_count": 9,
      "outputs": [
        {
          "output_type": "stream",
          "name": "stdout",
          "text": [
            "['birds', 'cat', 'fish', 'dog', 'monkey']\n"
          ]
        }
      ]
    }
  ]
}